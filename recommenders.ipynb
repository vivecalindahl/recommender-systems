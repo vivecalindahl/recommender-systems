{
 "cells": [
  {
   "cell_type": "markdown",
   "id": "2fa32ecb-d158-4c72-b531-c46955fbb78a",
   "metadata": {},
   "source": [
    "# About\n",
    "\n",
    "In this notebook I explore fundamental concepts of [recommender systems](https://en.wikipedia.org/wiki/Recommender_system). \n",
    "\n",
    "## Concepts covered\n",
    "* Recommender systems\n",
    "* Collaborative filtering\n",
    "    * user-based\n",
    "    * item-based\n",
    "* Content-based filtering\n",
    "* NLP\n",
    "* TF-IDF\n",
    "    \n",
    "* Similarity metrics (centered cosine/Pearson correlation coefficient)\n",
    "* Matrix factorization techniques \n",
    "\n",
    "## Tools used\n",
    "* scikit-learn\n",
    "\n",
    "## References\n",
    "To get started with recommender systems, I've used these resources and the links therein:\n",
    "* https://machinelearningmastery.com/recommender-systems-resources/\n",
    "* https://www.datacamp.com/community/tutorials/recommender-systems-python\n",
    "* https://realpython.com/build-recommendation-engine-collaborative-filtering/ \n"
   ]
  },
  {
   "cell_type": "markdown",
   "id": "cb39c636-fb04-4908-a7c5-9284b2fa4a20",
   "metadata": {},
   "source": [
    "# Imports, setup"
   ]
  },
  {
   "cell_type": "code",
   "execution_count": 294,
   "id": "6ba1865a-e9a2-41a8-8024-57ab74b22d9e",
   "metadata": {},
   "outputs": [],
   "source": [
    "import numpy as np\n",
    "from random import choice"
   ]
  },
  {
   "cell_type": "code",
   "execution_count": 6,
   "id": "3c6c7a4e-9d54-459d-b0c3-e6fbf8ee3ac1",
   "metadata": {},
   "outputs": [],
   "source": [
    "import pandas as pd\n",
    "import matplotlib.pyplot as plt\n",
    "import seaborn as sns"
   ]
  },
  {
   "cell_type": "code",
   "execution_count": 54,
   "id": "146233f0-2238-4661-ad5f-82c635a8388a",
   "metadata": {},
   "outputs": [],
   "source": [
    "from sklearn.feature_extraction.text import CountVectorizer\n",
    "from sklearn.feature_extraction.text import TfidfTransformer, TfidfVectorizer"
   ]
  },
  {
   "cell_type": "code",
   "execution_count": 70,
   "id": "da2954fd-142d-4502-8e7a-9d75df1d2546",
   "metadata": {},
   "outputs": [],
   "source": [
    "from sklearn.metrics.pairwise import linear_kernel"
   ]
  },
  {
   "cell_type": "code",
   "execution_count": 9,
   "id": "92240ba5-112d-46a9-812e-40316266523e",
   "metadata": {},
   "outputs": [],
   "source": [
    "sns.set_style(\"whitegrid\")"
   ]
  },
  {
   "cell_type": "markdown",
   "id": "12b6ba42-b10e-4095-86bf-12e05313fc5c",
   "metadata": {},
   "source": [
    "# The data\n",
    "I'll use Kaggle [The Movies dataset](https://www.kaggle.com/rounakbanik/the-movies-dataset/data), a subset of the [MovieLens dataset](https://grouplens.org/datasets/movielens). It consists of a number of csv-files:"
   ]
  },
  {
   "cell_type": "code",
   "execution_count": 29,
   "id": "c24c0683-87d3-443f-8a06-86f1ba55c576",
   "metadata": {},
   "outputs": [
    {
     "name": "stdout",
     "output_type": "stream",
     "text": [
      "credits.csv   links.csv        movies_metadata.csv  ratings_small.csv\n",
      "keywords.csv  links_small.csv  ratings.csv\n"
     ]
    }
   ],
   "source": [
    "ls data"
   ]
  },
  {
   "cell_type": "markdown",
   "id": "00655b96-7258-4654-ad12-10794b2847d8",
   "metadata": {},
   "source": [
    "The main data files I'll use are *metatadata.csv* and *ratings.csv*.\n",
    "\n",
    "* *metadata.csv*: contains information about the movie items (rows) in the form of 24 features (columns)  There are 45,466 movies listed. \n",
    "* *ratings.csv*: contains individual user ratings of movies. Columns are `userId`, `movieId`, `rating`, `timestamp`. The `movieid` is linked to the IMDB and TMDb id's via *link.csv*."
   ]
  },
  {
   "cell_type": "code",
   "execution_count": 10,
   "id": "10aed24d-4877-4369-aee8-b3a03bf27641",
   "metadata": {},
   "outputs": [],
   "source": [
    "metadata = pd.read_csv('data/movies_metadata.csv', low_memory=False)\n",
    "ratings = pd.read_csv('data/ratings.csv')\n",
    "links = pd.read_csv('data/links.csv')"
   ]
  },
  {
   "cell_type": "code",
   "execution_count": 158,
   "id": "f8892254-3a9d-406c-baaa-1a35747113a1",
   "metadata": {},
   "outputs": [
    {
     "data": {
      "text/html": [
       "<div>\n",
       "<style scoped>\n",
       "    .dataframe tbody tr th:only-of-type {\n",
       "        vertical-align: middle;\n",
       "    }\n",
       "\n",
       "    .dataframe tbody tr th {\n",
       "        vertical-align: top;\n",
       "    }\n",
       "\n",
       "    .dataframe thead th {\n",
       "        text-align: right;\n",
       "    }\n",
       "</style>\n",
       "<table border=\"1\" class=\"dataframe\">\n",
       "  <thead>\n",
       "    <tr style=\"text-align: right;\">\n",
       "      <th></th>\n",
       "      <th>adult</th>\n",
       "      <th>belongs_to_collection</th>\n",
       "      <th>budget</th>\n",
       "      <th>genres</th>\n",
       "      <th>homepage</th>\n",
       "      <th>id</th>\n",
       "      <th>imdb_id</th>\n",
       "      <th>original_language</th>\n",
       "      <th>original_title</th>\n",
       "      <th>overview</th>\n",
       "      <th>...</th>\n",
       "      <th>release_date</th>\n",
       "      <th>revenue</th>\n",
       "      <th>runtime</th>\n",
       "      <th>spoken_languages</th>\n",
       "      <th>status</th>\n",
       "      <th>tagline</th>\n",
       "      <th>title</th>\n",
       "      <th>video</th>\n",
       "      <th>vote_average</th>\n",
       "      <th>vote_count</th>\n",
       "    </tr>\n",
       "  </thead>\n",
       "  <tbody>\n",
       "    <tr>\n",
       "      <th>0</th>\n",
       "      <td>False</td>\n",
       "      <td>{'id': 10194, 'name': 'Toy Story Collection', ...</td>\n",
       "      <td>30000000</td>\n",
       "      <td>[{'id': 16, 'name': 'Animation'}, {'id': 35, '...</td>\n",
       "      <td>http://toystory.disney.com/toy-story</td>\n",
       "      <td>862</td>\n",
       "      <td>tt0114709</td>\n",
       "      <td>en</td>\n",
       "      <td>Toy Story</td>\n",
       "      <td>Led by Woody, Andy's toys live happily in his ...</td>\n",
       "      <td>...</td>\n",
       "      <td>1995-10-30</td>\n",
       "      <td>373554033.0</td>\n",
       "      <td>81.0</td>\n",
       "      <td>[{'iso_639_1': 'en', 'name': 'English'}]</td>\n",
       "      <td>Released</td>\n",
       "      <td>NaN</td>\n",
       "      <td>Toy Story</td>\n",
       "      <td>False</td>\n",
       "      <td>7.7</td>\n",
       "      <td>5415.0</td>\n",
       "    </tr>\n",
       "    <tr>\n",
       "      <th>1</th>\n",
       "      <td>False</td>\n",
       "      <td>NaN</td>\n",
       "      <td>65000000</td>\n",
       "      <td>[{'id': 12, 'name': 'Adventure'}, {'id': 14, '...</td>\n",
       "      <td>NaN</td>\n",
       "      <td>8844</td>\n",
       "      <td>tt0113497</td>\n",
       "      <td>en</td>\n",
       "      <td>Jumanji</td>\n",
       "      <td>When siblings Judy and Peter discover an encha...</td>\n",
       "      <td>...</td>\n",
       "      <td>1995-12-15</td>\n",
       "      <td>262797249.0</td>\n",
       "      <td>104.0</td>\n",
       "      <td>[{'iso_639_1': 'en', 'name': 'English'}, {'iso...</td>\n",
       "      <td>Released</td>\n",
       "      <td>Roll the dice and unleash the excitement!</td>\n",
       "      <td>Jumanji</td>\n",
       "      <td>False</td>\n",
       "      <td>6.9</td>\n",
       "      <td>2413.0</td>\n",
       "    </tr>\n",
       "    <tr>\n",
       "      <th>2</th>\n",
       "      <td>False</td>\n",
       "      <td>{'id': 119050, 'name': 'Grumpy Old Men Collect...</td>\n",
       "      <td>0</td>\n",
       "      <td>[{'id': 10749, 'name': 'Romance'}, {'id': 35, ...</td>\n",
       "      <td>NaN</td>\n",
       "      <td>15602</td>\n",
       "      <td>tt0113228</td>\n",
       "      <td>en</td>\n",
       "      <td>Grumpier Old Men</td>\n",
       "      <td>A family wedding reignites the ancient feud be...</td>\n",
       "      <td>...</td>\n",
       "      <td>1995-12-22</td>\n",
       "      <td>0.0</td>\n",
       "      <td>101.0</td>\n",
       "      <td>[{'iso_639_1': 'en', 'name': 'English'}]</td>\n",
       "      <td>Released</td>\n",
       "      <td>Still Yelling. Still Fighting. Still Ready for...</td>\n",
       "      <td>Grumpier Old Men</td>\n",
       "      <td>False</td>\n",
       "      <td>6.5</td>\n",
       "      <td>92.0</td>\n",
       "    </tr>\n",
       "  </tbody>\n",
       "</table>\n",
       "<p>3 rows × 24 columns</p>\n",
       "</div>"
      ],
      "text/plain": [
       "   adult                              belongs_to_collection    budget  \\\n",
       "0  False  {'id': 10194, 'name': 'Toy Story Collection', ...  30000000   \n",
       "1  False                                                NaN  65000000   \n",
       "2  False  {'id': 119050, 'name': 'Grumpy Old Men Collect...         0   \n",
       "\n",
       "                                              genres  \\\n",
       "0  [{'id': 16, 'name': 'Animation'}, {'id': 35, '...   \n",
       "1  [{'id': 12, 'name': 'Adventure'}, {'id': 14, '...   \n",
       "2  [{'id': 10749, 'name': 'Romance'}, {'id': 35, ...   \n",
       "\n",
       "                               homepage     id    imdb_id original_language  \\\n",
       "0  http://toystory.disney.com/toy-story    862  tt0114709                en   \n",
       "1                                   NaN   8844  tt0113497                en   \n",
       "2                                   NaN  15602  tt0113228                en   \n",
       "\n",
       "     original_title                                           overview  ...  \\\n",
       "0         Toy Story  Led by Woody, Andy's toys live happily in his ...  ...   \n",
       "1           Jumanji  When siblings Judy and Peter discover an encha...  ...   \n",
       "2  Grumpier Old Men  A family wedding reignites the ancient feud be...  ...   \n",
       "\n",
       "  release_date      revenue runtime  \\\n",
       "0   1995-10-30  373554033.0    81.0   \n",
       "1   1995-12-15  262797249.0   104.0   \n",
       "2   1995-12-22          0.0   101.0   \n",
       "\n",
       "                                    spoken_languages    status  \\\n",
       "0           [{'iso_639_1': 'en', 'name': 'English'}]  Released   \n",
       "1  [{'iso_639_1': 'en', 'name': 'English'}, {'iso...  Released   \n",
       "2           [{'iso_639_1': 'en', 'name': 'English'}]  Released   \n",
       "\n",
       "                                             tagline             title  video  \\\n",
       "0                                                NaN         Toy Story  False   \n",
       "1          Roll the dice and unleash the excitement!           Jumanji  False   \n",
       "2  Still Yelling. Still Fighting. Still Ready for...  Grumpier Old Men  False   \n",
       "\n",
       "  vote_average vote_count  \n",
       "0          7.7     5415.0  \n",
       "1          6.9     2413.0  \n",
       "2          6.5       92.0  \n",
       "\n",
       "[3 rows x 24 columns]"
      ]
     },
     "metadata": {},
     "output_type": "display_data"
    },
    {
     "name": "stdout",
     "output_type": "stream",
     "text": [
      "\n",
      "Number of records = 45466, number of features = 24.\n",
      "Columns: adult, belongs_to_collection, budget, genres, homepage, id, imdb_id, original_language, original_title, overview, popularity, poster_path, production_companies, production_countries, release_date, revenue, runtime, spoken_languages, status, tagline, title, video, vote_average, vote_count\n"
     ]
    }
   ],
   "source": [
    "display(metadata.head(3))\n",
    "print()\n",
    "print(\"Number of records = {}, number of features = {}.\".format(*metadata.shape))\n",
    "print(\"Columns:\", ', '.join(metadata.columns))"
   ]
  },
  {
   "cell_type": "code",
   "execution_count": 154,
   "id": "091a21be-a317-4b8a-add8-ddf863b1bf03",
   "metadata": {},
   "outputs": [
    {
     "data": {
      "text/html": [
       "<div>\n",
       "<style scoped>\n",
       "    .dataframe tbody tr th:only-of-type {\n",
       "        vertical-align: middle;\n",
       "    }\n",
       "\n",
       "    .dataframe tbody tr th {\n",
       "        vertical-align: top;\n",
       "    }\n",
       "\n",
       "    .dataframe thead th {\n",
       "        text-align: right;\n",
       "    }\n",
       "</style>\n",
       "<table border=\"1\" class=\"dataframe\">\n",
       "  <thead>\n",
       "    <tr style=\"text-align: right;\">\n",
       "      <th></th>\n",
       "      <th>userId</th>\n",
       "      <th>movieId</th>\n",
       "      <th>rating</th>\n",
       "      <th>timestamp</th>\n",
       "    </tr>\n",
       "  </thead>\n",
       "  <tbody>\n",
       "    <tr>\n",
       "      <th>0</th>\n",
       "      <td>1</td>\n",
       "      <td>110</td>\n",
       "      <td>1.0</td>\n",
       "      <td>1425941529</td>\n",
       "    </tr>\n",
       "    <tr>\n",
       "      <th>1</th>\n",
       "      <td>1</td>\n",
       "      <td>147</td>\n",
       "      <td>4.5</td>\n",
       "      <td>1425942435</td>\n",
       "    </tr>\n",
       "    <tr>\n",
       "      <th>2</th>\n",
       "      <td>1</td>\n",
       "      <td>858</td>\n",
       "      <td>5.0</td>\n",
       "      <td>1425941523</td>\n",
       "    </tr>\n",
       "  </tbody>\n",
       "</table>\n",
       "</div>"
      ],
      "text/plain": [
       "   userId  movieId  rating   timestamp\n",
       "0       1      110     1.0  1425941529\n",
       "1       1      147     4.5  1425942435\n",
       "2       1      858     5.0  1425941523"
      ]
     },
     "execution_count": 154,
     "metadata": {},
     "output_type": "execute_result"
    }
   ],
   "source": [
    "ratings.head(3)"
   ]
  },
  {
   "cell_type": "code",
   "execution_count": 152,
   "id": "da761802-2915-472b-b575-6d14d80eadb4",
   "metadata": {},
   "outputs": [
    {
     "data": {
      "text/html": [
       "<div>\n",
       "<style scoped>\n",
       "    .dataframe tbody tr th:only-of-type {\n",
       "        vertical-align: middle;\n",
       "    }\n",
       "\n",
       "    .dataframe tbody tr th {\n",
       "        vertical-align: top;\n",
       "    }\n",
       "\n",
       "    .dataframe thead th {\n",
       "        text-align: right;\n",
       "    }\n",
       "</style>\n",
       "<table border=\"1\" class=\"dataframe\">\n",
       "  <thead>\n",
       "    <tr style=\"text-align: right;\">\n",
       "      <th></th>\n",
       "      <th>movieId</th>\n",
       "      <th>imdbId</th>\n",
       "      <th>tmdbId</th>\n",
       "    </tr>\n",
       "  </thead>\n",
       "  <tbody>\n",
       "    <tr>\n",
       "      <th>0</th>\n",
       "      <td>1</td>\n",
       "      <td>114709</td>\n",
       "      <td>862.0</td>\n",
       "    </tr>\n",
       "    <tr>\n",
       "      <th>1</th>\n",
       "      <td>2</td>\n",
       "      <td>113497</td>\n",
       "      <td>8844.0</td>\n",
       "    </tr>\n",
       "    <tr>\n",
       "      <th>2</th>\n",
       "      <td>3</td>\n",
       "      <td>113228</td>\n",
       "      <td>15602.0</td>\n",
       "    </tr>\n",
       "  </tbody>\n",
       "</table>\n",
       "</div>"
      ],
      "text/plain": [
       "   movieId  imdbId   tmdbId\n",
       "0        1  114709    862.0\n",
       "1        2  113497   8844.0\n",
       "2        3  113228  15602.0"
      ]
     },
     "execution_count": 152,
     "metadata": {},
     "output_type": "execute_result"
    }
   ],
   "source": [
    "links.head(3)"
   ]
  },
  {
   "cell_type": "markdown",
   "id": "08d7c793-69b9-4983-867f-5e1387313174",
   "metadata": {},
   "source": [
    "# Preprocessing"
   ]
  },
  {
   "cell_type": "markdown",
   "id": "acf8c5c1-6f53-4c56-8d31-e79e49c7175f",
   "metadata": {},
   "source": [
    "## Overview missing values\n",
    "The overview has 2% NaN values. I impute these with an empty string."
   ]
  },
  {
   "cell_type": "code",
   "execution_count": 18,
   "id": "44437869-e515-4aee-bf96-ea692089b9fb",
   "metadata": {},
   "outputs": [
    {
     "data": {
      "text/plain": [
       "0.020982712356486164"
      ]
     },
     "execution_count": 18,
     "metadata": {},
     "output_type": "execute_result"
    }
   ],
   "source": [
    "len(metadata[metadata['overview'].isna()])/len(metadata)"
   ]
  },
  {
   "cell_type": "code",
   "execution_count": 19,
   "id": "f96f971b-7037-4b5e-89be-c3f66178c244",
   "metadata": {},
   "outputs": [],
   "source": [
    "metadata['overview'] = metadata['overview'].fillna('')"
   ]
  },
  {
   "cell_type": "markdown",
   "id": "5808afe3-6ae8-4cb7-80d6-bf174f75c43b",
   "metadata": {},
   "source": [
    "# A very basic recommender\n",
    "A recommender takes as input a user and outputs one or more recommended items, or takes a user and an item and outputs a predicted rating (which can then be used to recommend that item or not). A very simple recommender function would be to always output the top-$n$ most popular items. This not completely trivial, since \"popular\" concerns both how much people liked an item and how many people liked the item. This is clear from looking at the top 10:"
   ]
  },
  {
   "cell_type": "code",
   "execution_count": 163,
   "id": "c09d11b8-6180-4dba-b5fa-7a23d1c90616",
   "metadata": {},
   "outputs": [
    {
     "data": {
      "text/html": [
       "<div>\n",
       "<style scoped>\n",
       "    .dataframe tbody tr th:only-of-type {\n",
       "        vertical-align: middle;\n",
       "    }\n",
       "\n",
       "    .dataframe tbody tr th {\n",
       "        vertical-align: top;\n",
       "    }\n",
       "\n",
       "    .dataframe thead th {\n",
       "        text-align: right;\n",
       "    }\n",
       "</style>\n",
       "<table border=\"1\" class=\"dataframe\">\n",
       "  <thead>\n",
       "    <tr style=\"text-align: right;\">\n",
       "      <th></th>\n",
       "      <th>title</th>\n",
       "      <th>vote_average</th>\n",
       "      <th>vote_count</th>\n",
       "    </tr>\n",
       "  </thead>\n",
       "  <tbody>\n",
       "    <tr>\n",
       "      <th>21642</th>\n",
       "      <td>Ice Age Columbus: Who Were the First Americans?</td>\n",
       "      <td>10.0</td>\n",
       "      <td>1.0</td>\n",
       "    </tr>\n",
       "    <tr>\n",
       "      <th>15710</th>\n",
       "      <td>If God Is Willing and da Creek Don't Rise</td>\n",
       "      <td>10.0</td>\n",
       "      <td>1.0</td>\n",
       "    </tr>\n",
       "    <tr>\n",
       "      <th>22396</th>\n",
       "      <td>Meat the Truth</td>\n",
       "      <td>10.0</td>\n",
       "      <td>1.0</td>\n",
       "    </tr>\n",
       "    <tr>\n",
       "      <th>22395</th>\n",
       "      <td>Marvin Hamlisch: What He Did For Love</td>\n",
       "      <td>10.0</td>\n",
       "      <td>1.0</td>\n",
       "    </tr>\n",
       "    <tr>\n",
       "      <th>35343</th>\n",
       "      <td>Elaine Stritch: At Liberty</td>\n",
       "      <td>10.0</td>\n",
       "      <td>1.0</td>\n",
       "    </tr>\n",
       "    <tr>\n",
       "      <th>186</th>\n",
       "      <td>Reckless</td>\n",
       "      <td>10.0</td>\n",
       "      <td>1.0</td>\n",
       "    </tr>\n",
       "    <tr>\n",
       "      <th>45047</th>\n",
       "      <td>The Human Surge</td>\n",
       "      <td>10.0</td>\n",
       "      <td>1.0</td>\n",
       "    </tr>\n",
       "    <tr>\n",
       "      <th>22377</th>\n",
       "      <td>The Guide</td>\n",
       "      <td>10.0</td>\n",
       "      <td>1.0</td>\n",
       "    </tr>\n",
       "    <tr>\n",
       "      <th>22346</th>\n",
       "      <td>هیچ کجا هیچ کس</td>\n",
       "      <td>10.0</td>\n",
       "      <td>1.0</td>\n",
       "    </tr>\n",
       "    <tr>\n",
       "      <th>1634</th>\n",
       "      <td>Other Voices Other Rooms</td>\n",
       "      <td>10.0</td>\n",
       "      <td>1.0</td>\n",
       "    </tr>\n",
       "  </tbody>\n",
       "</table>\n",
       "</div>"
      ],
      "text/plain": [
       "                                                 title  vote_average  \\\n",
       "21642  Ice Age Columbus: Who Were the First Americans?          10.0   \n",
       "15710        If God Is Willing and da Creek Don't Rise          10.0   \n",
       "22396                                   Meat the Truth          10.0   \n",
       "22395            Marvin Hamlisch: What He Did For Love          10.0   \n",
       "35343                       Elaine Stritch: At Liberty          10.0   \n",
       "186                                           Reckless          10.0   \n",
       "45047                                  The Human Surge          10.0   \n",
       "22377                                        The Guide          10.0   \n",
       "22346                                   هیچ کجا هیچ کس          10.0   \n",
       "1634                          Other Voices Other Rooms          10.0   \n",
       "\n",
       "       vote_count  \n",
       "21642         1.0  \n",
       "15710         1.0  \n",
       "22396         1.0  \n",
       "22395         1.0  \n",
       "35343         1.0  \n",
       "186           1.0  \n",
       "45047         1.0  \n",
       "22377         1.0  \n",
       "22346         1.0  \n",
       "1634          1.0  "
      ]
     },
     "execution_count": 163,
     "metadata": {},
     "output_type": "execute_result"
    }
   ],
   "source": [
    "metadata.sort_values(by='vote_average', ascending=False)[['title', 'vote_average', 'vote_count']].head(10)"
   ]
  },
  {
   "cell_type": "markdown",
   "id": "3b0c8464-53c0-4523-959d-b7b375115680",
   "metadata": {},
   "source": [
    "These are all very unpopular in terms of user activity. We see from the cumulative distribution function that more than 80% of movies have less than 100 votes."
   ]
  },
  {
   "cell_type": "code",
   "execution_count": 226,
   "id": "5a546f5e-dd5f-4a07-bbb4-bbede0c1a53c",
   "metadata": {},
   "outputs": [
    {
     "data": {
      "image/png": "[encoded data removed]",
      "text/plain": [
       "<Figure size 576x288 with 2 Axes>"
      ]
     },
     "metadata": {},
     "output_type": "display_data"
    }
   ],
   "source": [
    "fig, axes = plt.subplots(1,2, figsize=(4*2,4))\n",
    "\n",
    "ax = axes[0]\n",
    "sns.ecdfplot(metadata, x=\"vote_count\", ax=ax)\n",
    "ax.set_xlabel('vote_count (<100)')\n",
    "\n",
    "ax.set_xlim(0, 100)\n",
    "ax = axes[1]\n",
    "sns.ecdfplot(metadata, x=\"vote_count\", ax=ax)\n",
    "ax.set_xlabel('vote_count (all)');"
   ]
  },
  {
   "cell_type": "markdown",
   "id": "9c93a230-2f9f-4c3f-883c-4e64996a7875",
   "metadata": {},
   "source": [
    "We'd like to give greater weight to movies with more votes. One way would be to calculate a weighted score function $s_i = \\bar{r}_i n_i$\n",
    "where $r_i$ and $n_i$ are `vote_average` and `vote_count` of movie $i$, respectively. Then, for instance doubling the number of votes would count for as much as doubling the average rating (this is the same as the summing all the ratings $s_i = \\sum_{j} r_{ij}$.). "
   ]
  },
  {
   "cell_type": "code",
   "execution_count": 236,
   "id": "03fe219a-9445-4f43-b911-c3be2e12b08f",
   "metadata": {},
   "outputs": [],
   "source": [
    "metadata['vote_total'] = metadata.apply(lambda row: row.vote_average*row.vote_count, axis=1)"
   ]
  },
  {
   "cell_type": "code",
   "execution_count": 238,
   "id": "e41d8bea-cabe-4e2b-bdaa-39c6f7a4f968",
   "metadata": {},
   "outputs": [
    {
     "data": {
      "text/html": [
       "<div>\n",
       "<style scoped>\n",
       "    .dataframe tbody tr th:only-of-type {\n",
       "        vertical-align: middle;\n",
       "    }\n",
       "\n",
       "    .dataframe tbody tr th {\n",
       "        vertical-align: top;\n",
       "    }\n",
       "\n",
       "    .dataframe thead th {\n",
       "        text-align: right;\n",
       "    }\n",
       "</style>\n",
       "<table border=\"1\" class=\"dataframe\">\n",
       "  <thead>\n",
       "    <tr style=\"text-align: right;\">\n",
       "      <th></th>\n",
       "      <th>title</th>\n",
       "      <th>vote_average</th>\n",
       "      <th>vote_count</th>\n",
       "      <th>vote_total</th>\n",
       "    </tr>\n",
       "  </thead>\n",
       "  <tbody>\n",
       "    <tr>\n",
       "      <th>15480</th>\n",
       "      <td>Inception</td>\n",
       "      <td>8.1</td>\n",
       "      <td>14075.0</td>\n",
       "      <td>114007.5</td>\n",
       "    </tr>\n",
       "    <tr>\n",
       "      <th>12481</th>\n",
       "      <td>The Dark Knight</td>\n",
       "      <td>8.3</td>\n",
       "      <td>12269.0</td>\n",
       "      <td>101832.7</td>\n",
       "    </tr>\n",
       "    <tr>\n",
       "      <th>22879</th>\n",
       "      <td>Interstellar</td>\n",
       "      <td>8.1</td>\n",
       "      <td>11187.0</td>\n",
       "      <td>90614.7</td>\n",
       "    </tr>\n",
       "    <tr>\n",
       "      <th>17818</th>\n",
       "      <td>The Avengers</td>\n",
       "      <td>7.4</td>\n",
       "      <td>12000.0</td>\n",
       "      <td>88800.0</td>\n",
       "    </tr>\n",
       "    <tr>\n",
       "      <th>14551</th>\n",
       "      <td>Avatar</td>\n",
       "      <td>7.2</td>\n",
       "      <td>12114.0</td>\n",
       "      <td>87220.8</td>\n",
       "    </tr>\n",
       "    <tr>\n",
       "      <th>26564</th>\n",
       "      <td>Deadpool</td>\n",
       "      <td>7.4</td>\n",
       "      <td>11444.0</td>\n",
       "      <td>84685.6</td>\n",
       "    </tr>\n",
       "    <tr>\n",
       "      <th>2843</th>\n",
       "      <td>Fight Club</td>\n",
       "      <td>8.3</td>\n",
       "      <td>9678.0</td>\n",
       "      <td>80327.4</td>\n",
       "    </tr>\n",
       "    <tr>\n",
       "      <th>20051</th>\n",
       "      <td>Django Unchained</td>\n",
       "      <td>7.8</td>\n",
       "      <td>10297.0</td>\n",
       "      <td>80316.6</td>\n",
       "    </tr>\n",
       "    <tr>\n",
       "      <th>23753</th>\n",
       "      <td>Guardians of the Galaxy</td>\n",
       "      <td>7.9</td>\n",
       "      <td>10014.0</td>\n",
       "      <td>79110.6</td>\n",
       "    </tr>\n",
       "    <tr>\n",
       "      <th>292</th>\n",
       "      <td>Pulp Fiction</td>\n",
       "      <td>8.3</td>\n",
       "      <td>8670.0</td>\n",
       "      <td>71961.0</td>\n",
       "    </tr>\n",
       "  </tbody>\n",
       "</table>\n",
       "</div>"
      ],
      "text/plain": [
       "                         title  vote_average  vote_count  vote_total\n",
       "15480                Inception           8.1     14075.0    114007.5\n",
       "12481          The Dark Knight           8.3     12269.0    101832.7\n",
       "22879             Interstellar           8.1     11187.0     90614.7\n",
       "17818             The Avengers           7.4     12000.0     88800.0\n",
       "14551                   Avatar           7.2     12114.0     87220.8\n",
       "26564                 Deadpool           7.4     11444.0     84685.6\n",
       "2843                Fight Club           8.3      9678.0     80327.4\n",
       "20051         Django Unchained           7.8     10297.0     80316.6\n",
       "23753  Guardians of the Galaxy           7.9     10014.0     79110.6\n",
       "292               Pulp Fiction           8.3      8670.0     71961.0"
      ]
     },
     "execution_count": 238,
     "metadata": {},
     "output_type": "execute_result"
    }
   ],
   "source": [
    "metadata.sort_values(by='vote_total', ascending=False)[['title', 'vote_average', 'vote_count',  'vote_total']].head(10)"
   ]
  },
  {
   "cell_type": "markdown",
   "id": "8552be1e-125e-4152-b63b-999298cc0538",
   "metadata": {},
   "source": [
    "This looks much better already. However, since we are are looking for high-quality movies that an individual user will (rather than trying to quantify how much total \"like\" a movie has generated) this may be somewhat too aggressive. For instance, some movies with relatively low average score make the top-10, such as *Avatar*, perhaps not because it was a very good movie, but because it was innovative or trendy at the time to see go see it. \n",
    "\n",
    "IMDB uses a weighted average which is only calculated for movies with number of votes above a certain cutoff $n_c$, $n_i > n_c$:\n",
    "\n",
    "\\begin{equation}\n",
    "s_i' = \n",
    "\\frac{n_i \\bar{r}_i  + n_c \\bar{r}_\\text{tot}}{n_i + n_{c}},\n",
    "\\end{equation}\n",
    "\n",
    "where $\\bar{r}_{\\text{tot}}$ is the average rating of all movies. For $n_i \\gg n_c$, the number of votes  will not be relevant any longer, only the average rate, $s'_i \\approx \\bar{r_i}$."
   ]
  },
  {
   "cell_type": "code",
   "execution_count": 239,
   "id": "2964c322-12ae-453c-a288-f755a4d56e4d",
   "metadata": {},
   "outputs": [
    {
     "name": "stdout",
     "output_type": "stream",
     "text": [
      "5.618207215134185\n"
     ]
    }
   ],
   "source": [
    "r_tot = metadata.vote_average.mean()\n",
    "print(r_tot)"
   ]
  },
  {
   "cell_type": "markdown",
   "id": "e6105dcf-10a5-4fdd-9a45-c808c77f22cd",
   "metadata": {},
   "source": [
    "The cutoff hyperparameter $n_c$ we can set to the 90% quantile, so that 90% of all data will be above the cutoff and so be given a score:"
   ]
  },
  {
   "cell_type": "code",
   "execution_count": 241,
   "id": "3857f935-98a8-48d7-af36-d17d17c88f20",
   "metadata": {},
   "outputs": [
    {
     "name": "stdout",
     "output_type": "stream",
     "text": [
      "160.0\n"
     ]
    }
   ],
   "source": [
    "n_c = metadata.vote_count.quantile(0.9)\n",
    "print(n_c)"
   ]
  },
  {
   "cell_type": "code",
   "execution_count": 248,
   "id": "1a953dd2-cb15-42d6-b722-adecec11145c",
   "metadata": {},
   "outputs": [],
   "source": [
    "def weighted_score(row):\n",
    "    r_i = row.vote_average\n",
    "    n_i = row.vote_count\n",
    "    if n_i < n_c: \n",
    "        return 0\n",
    "    else:\n",
    "        return (n_i*r_i + n_c*r_tot)/(n_i+ n_c)"
   ]
  },
  {
   "cell_type": "code",
   "execution_count": 249,
   "id": "1a26e1c1-8fff-4c12-ac60-decc112ccf6b",
   "metadata": {},
   "outputs": [],
   "source": [
    "metadata['weighted'] = metadata.apply(weighted_score, axis=1)"
   ]
  },
  {
   "cell_type": "code",
   "execution_count": 250,
   "id": "b3586473-5478-48aa-8d91-2809194860b2",
   "metadata": {},
   "outputs": [
    {
     "data": {
      "text/html": [
       "<div>\n",
       "<style scoped>\n",
       "    .dataframe tbody tr th:only-of-type {\n",
       "        vertical-align: middle;\n",
       "    }\n",
       "\n",
       "    .dataframe tbody tr th {\n",
       "        vertical-align: top;\n",
       "    }\n",
       "\n",
       "    .dataframe thead th {\n",
       "        text-align: right;\n",
       "    }\n",
       "</style>\n",
       "<table border=\"1\" class=\"dataframe\">\n",
       "  <thead>\n",
       "    <tr style=\"text-align: right;\">\n",
       "      <th></th>\n",
       "      <th>title</th>\n",
       "      <th>vote_average</th>\n",
       "      <th>vote_count</th>\n",
       "      <th>vote_total</th>\n",
       "      <th>vote_weighted</th>\n",
       "    </tr>\n",
       "  </thead>\n",
       "  <tbody>\n",
       "    <tr>\n",
       "      <th>314</th>\n",
       "      <td>The Shawshank Redemption</td>\n",
       "      <td>8.5</td>\n",
       "      <td>8358.0</td>\n",
       "      <td>71043.0</td>\n",
       "      <td>8.445869</td>\n",
       "    </tr>\n",
       "    <tr>\n",
       "      <th>834</th>\n",
       "      <td>The Godfather</td>\n",
       "      <td>8.5</td>\n",
       "      <td>6024.0</td>\n",
       "      <td>51204.0</td>\n",
       "      <td>8.425439</td>\n",
       "    </tr>\n",
       "    <tr>\n",
       "      <th>10309</th>\n",
       "      <td>Dilwale Dulhania Le Jayenge</td>\n",
       "      <td>9.1</td>\n",
       "      <td>661.0</td>\n",
       "      <td>6015.1</td>\n",
       "      <td>8.421453</td>\n",
       "    </tr>\n",
       "    <tr>\n",
       "      <th>12481</th>\n",
       "      <td>The Dark Knight</td>\n",
       "      <td>8.3</td>\n",
       "      <td>12269.0</td>\n",
       "      <td>101832.7</td>\n",
       "      <td>8.265477</td>\n",
       "    </tr>\n",
       "    <tr>\n",
       "      <th>2843</th>\n",
       "      <td>Fight Club</td>\n",
       "      <td>8.3</td>\n",
       "      <td>9678.0</td>\n",
       "      <td>80327.4</td>\n",
       "      <td>8.256385</td>\n",
       "    </tr>\n",
       "    <tr>\n",
       "      <th>292</th>\n",
       "      <td>Pulp Fiction</td>\n",
       "      <td>8.3</td>\n",
       "      <td>8670.0</td>\n",
       "      <td>71961.0</td>\n",
       "      <td>8.251406</td>\n",
       "    </tr>\n",
       "    <tr>\n",
       "      <th>522</th>\n",
       "      <td>Schindler's List</td>\n",
       "      <td>8.3</td>\n",
       "      <td>4436.0</td>\n",
       "      <td>36818.8</td>\n",
       "      <td>8.206639</td>\n",
       "    </tr>\n",
       "    <tr>\n",
       "      <th>23673</th>\n",
       "      <td>Whiplash</td>\n",
       "      <td>8.3</td>\n",
       "      <td>4376.0</td>\n",
       "      <td>36320.8</td>\n",
       "      <td>8.205404</td>\n",
       "    </tr>\n",
       "    <tr>\n",
       "      <th>5481</th>\n",
       "      <td>Spirited Away</td>\n",
       "      <td>8.3</td>\n",
       "      <td>3968.0</td>\n",
       "      <td>32934.4</td>\n",
       "      <td>8.196055</td>\n",
       "    </tr>\n",
       "    <tr>\n",
       "      <th>2211</th>\n",
       "      <td>Life Is Beautiful</td>\n",
       "      <td>8.3</td>\n",
       "      <td>3643.0</td>\n",
       "      <td>30236.9</td>\n",
       "      <td>8.187171</td>\n",
       "    </tr>\n",
       "  </tbody>\n",
       "</table>\n",
       "</div>"
      ],
      "text/plain": [
       "                             title  vote_average  vote_count  vote_total  \\\n",
       "314       The Shawshank Redemption           8.5      8358.0     71043.0   \n",
       "834                  The Godfather           8.5      6024.0     51204.0   \n",
       "10309  Dilwale Dulhania Le Jayenge           9.1       661.0      6015.1   \n",
       "12481              The Dark Knight           8.3     12269.0    101832.7   \n",
       "2843                    Fight Club           8.3      9678.0     80327.4   \n",
       "292                   Pulp Fiction           8.3      8670.0     71961.0   \n",
       "522               Schindler's List           8.3      4436.0     36818.8   \n",
       "23673                     Whiplash           8.3      4376.0     36320.8   \n",
       "5481                 Spirited Away           8.3      3968.0     32934.4   \n",
       "2211             Life Is Beautiful           8.3      3643.0     30236.9   \n",
       "\n",
       "       vote_weighted  \n",
       "314         8.445869  \n",
       "834         8.425439  \n",
       "10309       8.421453  \n",
       "12481       8.265477  \n",
       "2843        8.256385  \n",
       "292         8.251406  \n",
       "522         8.206639  \n",
       "23673       8.205404  \n",
       "5481        8.196055  \n",
       "2211        8.187171  "
      ]
     },
     "execution_count": 250,
     "metadata": {},
     "output_type": "execute_result"
    }
   ],
   "source": [
    "metadata.sort_values(by='vote_weighted', ascending=False)[['title', 'vote_average', 'vote_count',  'vote_total', 'vote_weighted']].head(10)"
   ]
  },
  {
   "cell_type": "markdown",
   "id": "42a06d54-e4ca-4488-bee2-f4f3e9447b52",
   "metadata": {},
   "source": [
    "This top-list now looks very different. All movies have high average score and the Bollywood movie *Dilwale Dulhania Le Jayenge* comes in at number 3, even though it has a much lower number of votes than the other (mostly Hollywood) movies."
   ]
  },
  {
   "cell_type": "markdown",
   "id": "69fd8194-c550-4b85-9d56-e3adf4aacff2",
   "metadata": {},
   "source": [
    "# Content-based filtering\n",
    "A more reifned approach would be to actually make use of the features of the movies, to try to find movies similar to one another. Given an item that a user liked recently, one can then spawn recommendations for similar items for that specific user. This is an example of *content-based filtering*. Here, one of the most informative feature is the movie overview text string. For instance,"
   ]
  },
  {
   "cell_type": "code",
   "execution_count": 275,
   "id": "8f1951dd-9139-46f9-b6cd-aeeefd7d9b00",
   "metadata": {},
   "outputs": [
    {
     "name": "stdout",
     "output_type": "stream",
     "text": [
      "Toy Story\n",
      "Led by Woody, Andy's toys live happily in his room until Andy's birthday brings Buzz Lightyear onto the scene. Afraid of losing his place in Andy's heart, Woody plots against Buzz. But when circumstances separate Buzz and Woody from their owner, the duo eventually learns to put aside their differences.\n"
     ]
    }
   ],
   "source": [
    "for v in metadata.iloc[0][['title', 'overview']]:\n",
    "    print(v)"
   ]
  },
  {
   "cell_type": "markdown",
   "id": "f0915336-ac7f-4df6-837c-b008829bbd21",
   "metadata": {},
   "source": [
    "We can think of all movie items living in some space, closer or further away from each other depending on how similar they are. To recommend *similar* items to any given item, \n",
    "* the items needs to  be vectorized (given features) and embedded into a common space, and \n",
    "* a similarity/distance metric in this space neededs to be defined.\n",
    "\n",
    "In this case we are considering text data, so we use standard NLP (Natural Language processing) techniques from `scikit-learn` for achieving this, see the \n",
    "[scikit-learn text feature extraction overview](https://scikit-learn.org/stable/modules/feature_extraction.html#text-feature-extraction)."
   ]
  },
  {
   "cell_type": "markdown",
   "id": "9da4a2af-b3e3-4bd2-89f7-443774df3fe5",
   "metadata": {},
   "source": [
    "## Vectorization\n",
    "\n",
    "### Tokenize, count\n",
    "I use a [bag-of-words](https://en.wikipedia.org/wiki/Bag-of-words_model) vectorization approach, where each word is considered independently of its relation to other words. Each overview (\"document\") is turned into a vector by tokenizing it, counting the number of tokens in each overview and then representing the overview by its frequency of tokens."
   ]
  },
  {
   "cell_type": "code",
   "execution_count": 21,
   "id": "bf1b46ff-e12a-4398-a239-f0717209aa2e",
   "metadata": {},
   "outputs": [],
   "source": [
    "vectorizer = CountVectorizer(stop_words='english')"
   ]
  },
  {
   "cell_type": "code",
   "execution_count": 23,
   "id": "a624131b-4a74-4e87-972d-b90f8c5a9e7d",
   "metadata": {},
   "outputs": [],
   "source": [
    "overview_vectors = vectorizer.fit_transform(metadata['overview'])"
   ]
  },
  {
   "cell_type": "code",
   "execution_count": 24,
   "id": "6887c175-0b55-4320-9123-500c2a6ede60",
   "metadata": {},
   "outputs": [
    {
     "data": {
      "text/plain": [
       "<45466x75827 sparse matrix of type '<class 'numpy.int64'>'\n",
       "\twith 1210882 stored elements in Compressed Sparse Row format>"
      ]
     },
     "execution_count": 24,
     "metadata": {},
     "output_type": "execute_result"
    }
   ],
   "source": [
    "overview_vectors"
   ]
  },
  {
   "cell_type": "markdown",
   "id": "0128d503-1fda-4cfb-8922-466184ac9c7c",
   "metadata": {},
   "source": [
    "The matrix, with items/documents/movies as rows (45466) and tokens/words/features as columns (75827), is represented as a sparse Python matrix because most words will not be present in a single document. Here are examples of some of the features."
   ]
  },
  {
   "cell_type": "code",
   "execution_count": 43,
   "id": "e9b85ce2-ae61-4a50-861c-6c56eda3fd77",
   "metadata": {},
   "outputs": [
    {
     "data": {
      "text/plain": [
       "['00',\n",
       " 'cabrell',\n",
       " 'ebbs',\n",
       " 'hindelang',\n",
       " 'macdowell',\n",
       " 'period',\n",
       " 'shapeshifting',\n",
       " 'unshakable']"
      ]
     },
     "execution_count": 43,
     "metadata": {},
     "output_type": "execute_result"
    }
   ],
   "source": [
    "vectorizer.get_feature_names()[::10_000]"
   ]
  },
  {
   "cell_type": "markdown",
   "id": "40873d0a-2330-46fd-9ef2-be4734120ec9",
   "metadata": {},
   "source": [
    "In raw form the matrix displays mostly 0s and 1s,"
   ]
  },
  {
   "cell_type": "code",
   "execution_count": 59,
   "id": "8bb908f7-89e4-45da-b6c2-1bbc32da794c",
   "metadata": {},
   "outputs": [
    {
     "name": "stdout",
     "output_type": "stream",
     "text": [
      "[[0 0 0 ... 0 0 0]\n",
      " [0 0 0 ... 0 0 0]\n",
      " [0 0 0 ... 0 0 0]\n",
      " [0 0 0 ... 0 0 0]\n",
      " [0 0 0 ... 0 0 0]]\n"
     ]
    }
   ],
   "source": [
    "v5 = overview_vectors.toarray()[:5, :]\n",
    "print(v5)"
   ]
  },
  {
   "cell_type": "code",
   "execution_count": 60,
   "id": "d2906f4a-9cc6-4751-8d9b-e96d4a948127",
   "metadata": {},
   "outputs": [
    {
     "data": {
      "text/plain": [
       "array([1, 3, 1, 1, 1, 3, 1, 1, 1, 1, 1, 1, 1, 1, 1, 1, 1, 1, 1, 1, 1, 1,\n",
       "       1, 1, 3, 1, 1, 2, 1, 1, 1, 1, 1, 1, 1, 1, 3, 1, 1, 1, 1, 1, 1, 1,\n",
       "       1, 1, 1, 1, 1, 1, 1, 1, 1, 1, 1, 1, 1, 1, 1, 1, 1, 1, 1, 1, 1, 1,\n",
       "       1, 1, 1, 1, 1, 1, 1, 1, 1, 1, 1, 2, 1, 1, 1, 1, 1, 1, 1, 1, 1, 1,\n",
       "       1, 1, 1, 1, 1, 1, 1, 1, 1, 1, 1, 1, 1, 1, 1, 1, 1, 1, 1, 1, 1, 1,\n",
       "       1, 1, 1, 1, 1, 1, 1, 1, 1, 3, 1, 1, 1, 1, 1, 1, 1, 1, 1, 1, 1, 1,\n",
       "       1, 1, 1])"
      ]
     },
     "execution_count": 60,
     "metadata": {},
     "output_type": "execute_result"
    }
   ],
   "source": [
    "v5[np.where(v5 > 0)]"
   ]
  },
  {
   "cell_type": "markdown",
   "id": "5c2adf26-7239-4bb0-842a-347904f700d8",
   "metadata": {},
   "source": [
    "### Normalize, TF-IDF\n",
    "At this point, there is no added normalization/weighting, the matrix simply contains absolute counts. However, some words carry more information than others in distinguishing movies. For instance, it's not useful to know that two movies containing \"the\" in the overview text, while the two movies described by the word \"love\" may very well be similar in some way. The [term frequency–inverse document frequency (TF-IDF)](https://en.wikipedia.org/wiki/Tf%E2%80%93idf) is a standard approach for putting less words on words that occur commonly in all documents, thus reducing  baseline noise. Also, different overviews may be written more or less wordy which we don't necessarily want to take into account by using raw counts. TF-IDF is weight is calculated and applied to each element in the matrix (document and token) and is defined as\n",
    "\n",
    "\\begin{equation}\n",
    "\\text{tfidf(d, t)} = \\text{tf}(d, t) \\cdot \\text{idf}(t) = \n",
    "\\frac{n^d_t}{\\sum_{t'} n^d_{t'}} \\cdot\n",
    "\\ln \\frac{N}{N_t}\n",
    "\\end{equation}\n",
    "\n",
    "where $n^d_t$ are the counts of token $t$ in the document $d$, $N$ is the total number of documents and $N_t$ is the number of of documents where the token $t$ appears ($n_t > 0$). The TF term sets the importance of the word relative to the document and the IDF term sets the importance of the word for the whole corpus (set of documents). For each document $d$ we get a vector with elements $u_t = \\text{tfidf}(d,t)$."
   ]
  },
  {
   "cell_type": "markdown",
   "id": "c477a6f1-0a9b-4ac4-ae1f-025f7b640a2f",
   "metadata": {},
   "source": [
    "In `scikit-learn` we can apply the `TfidTransformer` to our count matrix to apply these weights,"
   ]
  },
  {
   "cell_type": "code",
   "execution_count": 53,
   "id": "07c20217-3e57-443c-b7fa-c7f3fe5114cc",
   "metadata": {},
   "outputs": [
    {
     "data": {
      "text/plain": [
       "<45466x75827 sparse matrix of type '<class 'numpy.float64'>'\n",
       "\twith 1210882 stored elements in Compressed Sparse Row format>"
      ]
     },
     "execution_count": 53,
     "metadata": {},
     "output_type": "execute_result"
    }
   ],
   "source": [
    "transformer = TfidfTransformer()\n",
    "tfidf = transformer.fit_transform(overview_vectors)\n",
    "tfidf"
   ]
  },
  {
   "cell_type": "markdown",
   "id": "50fe876a-b588-43ea-98df-ca1f8ac05fc9",
   "metadata": {},
   "source": [
    "Alternatively, `TfidfVectorizer` does both vectorization and transformation in one go. Now we have non-integer weights in our feature matrix:"
   ]
  },
  {
   "cell_type": "code",
   "execution_count": 62,
   "id": "a7e7bc69-2c61-403b-8aa2-63b0d5dd25d8",
   "metadata": {},
   "outputs": [
    {
     "data": {
      "text/plain": [
       "array([0.14091177, 0.41178366, 0.1474882 , 0.12380553, 0.10635375,\n",
       "       0.50280387, 0.12544428, 0.1348315 , 0.13281884, 0.10438761,\n",
       "       0.13311522, 0.10093917, 0.10142919, 0.10739706, 0.20627925,\n",
       "       0.08718689, 0.11907123, 0.10339358, 0.09190798, 0.13434817,\n",
       "       0.11124851, 0.11355919, 0.13008016, 0.14878285, 0.48098271,\n",
       "       0.19079662, 0.15046466, 0.33017085, 0.15233435, 0.15233435,\n",
       "       0.11584412, 0.14384663, 0.19018379, 0.11581823, 0.16446724,\n",
       "       0.14142889, 0.37109888, 0.14635122, 0.13248383, 0.13125797,\n",
       "       0.18900392, 0.19079662, 0.1051242 , 0.14821605, 0.21120412,\n",
       "       0.15436507, 0.14038016, 0.15282588, 0.24391034, 0.19142579,\n",
       "       0.13520372, 0.14030701, 0.16820596, 0.14663604, 0.13716579,\n",
       "       0.16637261, 0.07978208, 0.08644042, 0.21310699, 0.14326062,\n",
       "       0.11553371, 0.21536409, 0.17664301, 0.19193114, 0.22371227,\n",
       "       0.15127508, 0.0857531 , 0.19058968, 0.17405374, 0.17361068,\n",
       "       0.14865206, 0.16482721, 0.14306754, 0.12357524, 0.14881317,\n",
       "       0.11249427, 0.17051819, 0.32411898, 0.16956746, 0.16233671,\n",
       "       0.23930861, 0.15895408, 0.20570111, 0.23638631, 0.15371131,\n",
       "       0.21205105, 0.09013326, 0.14300351, 0.20570111, 0.22901805,\n",
       "       0.15396663, 0.14727765, 0.22792418, 0.25247721, 0.22687322,\n",
       "       0.27703024, 0.14548887, 0.19609459, 0.10537286, 0.28473901,\n",
       "       0.12953599, 0.19709332, 0.16611687, 0.08650215, 0.23527802,\n",
       "       0.18896389, 0.23825844, 0.24161232, 0.19642338, 0.1685749 ,\n",
       "       0.2956039 , 0.16964928, 0.10669962, 0.12241981, 0.18886353,\n",
       "       0.23231316, 0.15894062, 0.12649643, 0.23034823, 0.53533771,\n",
       "       0.27887674, 0.11962425, 0.12690744, 0.18466137, 0.13482378,\n",
       "       0.18403143, 0.23131484, 0.1573858 , 0.20401274, 0.17801648,\n",
       "       0.18862093, 0.25777335, 0.19153481, 0.17548127, 0.11843256])"
      ]
     },
     "execution_count": 62,
     "metadata": {},
     "output_type": "execute_result"
    }
   ],
   "source": [
    "t5 = tfidf.toarray()[:5,:]\n",
    "t5[np.where(t5 > 0)]"
   ]
  },
  {
   "cell_type": "markdown",
   "id": "051a1a8d-4cea-4d09-88ed-494a242e26af",
   "metadata": {},
   "source": [
    "`TfidfTransformer` also normalizes the matrix (using L2 norm by default),"
   ]
  },
  {
   "cell_type": "code",
   "execution_count": 69,
   "id": "66d002ae-6410-4155-a21c-3c1a0ff2b5a8",
   "metadata": {},
   "outputs": [
    {
     "data": {
      "text/plain": [
       "True"
      ]
     },
     "execution_count": 69,
     "metadata": {},
     "output_type": "execute_result"
    }
   ],
   "source": [
    "np.isclose(np.sum(t5**2, axis=1), 1).all()"
   ]
  },
  {
   "cell_type": "markdown",
   "id": "c8f3b804-1ae5-418d-909f-e53b5c68b210",
   "metadata": {},
   "source": [
    "## Similarity\n",
    "Now we have a vector space and each document being represented by a vector  , and so can start defining similarities between these data points.\n",
    "\n",
    "[Cosine similarity](https://en.wikipedia.org/wiki/Cosine_similarity) is defined as the cosine of the angle between two vectors\n",
    "\n",
    "\\begin{equation}\n",
    "cos\\theta(u, v) =  \\frac{u \\cdot v}{|u||v|} = \\frac{\\sum_t u_t v_t}{\\sqrt{\\sum_t u_t^2} \\sqrt{\\sum_t v_t^2} },\n",
    "\\end{equation}\n",
    "\n",
    "where $u$ and $v$ are vectors (with elements $u_t$, $v_t$). Cosine similarity is useful for providing a relative measure of similarity rather than absolute."
   ]
  },
  {
   "cell_type": "markdown",
   "id": "ba2b2ca7-a671-4f80-8d0c-b41df2ae35c1",
   "metadata": {},
   "source": [
    "We are after all pair-wise similarites, so a $45466 \\times 45466$ similarity matrix. Since our TF-IDF vectors are normalized to 1, $cos\\theta(u,v) = \\sum_t u_t \\cdot v_t$, and we can use the [scikit-learn linear kernel](https://scikit-learn.org/stable/modules/metrics.html#linear-kernel)."
   ]
  },
  {
   "cell_type": "code",
   "execution_count": 71,
   "id": "2e60944d-c459-4cbc-9904-c2b571046b66",
   "metadata": {},
   "outputs": [],
   "source": [
    "costheta = linear_kernel(tfidf, tfidf)"
   ]
  },
  {
   "cell_type": "code",
   "execution_count": 73,
   "id": "1c133e3e-545c-474f-9025-1da7575b0ed6",
   "metadata": {},
   "outputs": [
    {
     "data": {
      "text/plain": [
       "(45466, 45466)"
      ]
     },
     "execution_count": 73,
     "metadata": {},
     "output_type": "execute_result"
    }
   ],
   "source": [
    "costheta.shape"
   ]
  },
  {
   "cell_type": "markdown",
   "id": "100a35b3-29b8-4069-994d-ba4e79c06780",
   "metadata": {},
   "source": [
    "## A content-based recommender function\n",
    "Given any movie, we can now define a recommender function by spawning a top-list of similar items. To get a personalized recommendation, for a specific user, a simple way is to find a movie \"seed\" and find similar movies based on that. Below, I get take the seed item to be the most highly rated movie of that user thus far. Then, given a user, we can create a content-based filtering recommender funciton as follows:"
   ]
  },
  {
   "cell_type": "code",
   "execution_count": 257,
   "id": "04f55258-430c-4e1d-9736-88349e8ad6a8",
   "metadata": {},
   "outputs": [],
   "source": [
    "def recommend_for_user(user_id, num_recommendations=10):\n",
    "    \"\"\"Return a set of recommendations for user, based on the user's highest rated movie.\"\"\"\n",
    "    # Get most highly rated movieId of user\n",
    "    movie_id = str(int(ratings[ratings.userId == user_id].sort_values('rating', ascending=False).iloc[0].movieId))\n",
    "    \n",
    "    # Link it to the TMDB id\n",
    "    tmdb_id = str(int(links[links.movieId == movieid].tmdbId))\n",
    "    \n",
    "    # Get metadata dataframe index\n",
    "    seed_index = metadata.index[metadata.id == tmdb_id].to_list()[0]    \n",
    "    indices = range(len(costheta))\n",
    "    \n",
    "    # Get indices of top-n similar items (+1 for the diagonal, the same item)\n",
    "    top = sorted(zip(indices, costheta[seed_index]), key= lambda t: t[1], reverse=True)[:num_recommendations]\n",
    "    top_indices, top_values = list(zip(*top))\n",
    "    \n",
    "    # Return the indices and similarity of the recommendations (including the highest rated one)\n",
    "    return list(top_indices), list(top_values)"
   ]
  },
  {
   "cell_type": "code",
   "execution_count": 266,
   "id": "4e9cb63f-07f3-48e8-b1a1-22602980b563",
   "metadata": {},
   "outputs": [],
   "source": [
    "def sample_user():\n",
    "    return choice(ratings.userId.unique())"
   ]
  },
  {
   "cell_type": "markdown",
   "id": "c64fbc10-cdb5-40b2-b706-cb2bd8c82484",
   "metadata": {},
   "source": [
    "We can now have a look at how this performs for a randomly chosen user:"
   ]
  },
  {
   "cell_type": "code",
   "execution_count": 293,
   "id": "0532d3f7-69b1-4ff9-906e-32e123e28637",
   "metadata": {},
   "outputs": [
    {
     "name": "stdout",
     "output_type": "stream",
     "text": [
      "Whiplash 0.9999999999999999\n",
      "\"Under the direction of a ruthless instructor, a talented young drummer begins to pursue perfection at any cost, even his humanity.\"\n",
      "\n",
      "The Adonis Factor 0.2131529331643415\n",
      "\"Gay men and their pursuit of physical perfection.\"\n",
      "\n",
      "Ninja III: The Domination 0.16188279098729355\n",
      "\"A female aerobic instructor is possessed by an evil spirit of a fallen ninja when coming to his aid. The spirit seeks revenge on those who killed him and uses the female instructor's body to carry out his mission. The only way the spirit will leave aerobic instructor's body is with the help of another ninja.\"\n",
      "\n",
      "The Sitter 0.15072027462121784\n",
      "\"A prosperous couple find the perfect live-in nanny but soon discover she intends to do her job to deadly perfection.\"\n",
      "\n",
      "Kung Fu Jungle 0.14972880886583645\n",
      "\"A martial arts instructor working at a police academy gets imprisoned after killing a man by accident. But when a vicious killer starts targeting martial arts masters, the instructor offers to help the police in return for his freedom.\"\n",
      "\n"
     ]
    }
   ],
   "source": [
    "user = sample_user()\n",
    "top_indices, top_values = recommend_for_user(user, num_recommendations=5)\n",
    "\n",
    "for i, v in zip(top_indices, top_values):\n",
    "    print(metadata.iloc[i].title, v)\n",
    "    print('\"', metadata.iloc[i].overview, '\"', sep='')\n",
    "    print()"
   ]
  },
  {
   "cell_type": "markdown",
   "id": "f70b61f7-c4e0-4fbc-ab9b-ca7944a7bdee",
   "metadata": {},
   "source": [
    "Above, *Whiplash* was this user's top-rated movie. Since this movie was the seed of the similarity-based recommendation, it gets a similarity score of 1. The top recommendation is the *Adonis Factor*. Scanning through these summaries, we realize that the main similarity between these items are that they have to do with \"perfection\" or \"instructor\"."
   ]
  },
  {
   "cell_type": "markdown",
   "id": "f0a95b7c-e91b-4746-8446-64ca4c5fb28d",
   "metadata": {},
   "source": [
    "This recommender could be improved by doing more work on the NLP vectorization and by adding more features, besides those of the the synopsis. Also, this approach doesn't make use of most of the information in the ratings dataset, a user's full history or similarity to other users. That's exactly what *collaborative filtering*, another branch of recommender systems, leverages."
   ]
  },
  {
   "cell_type": "markdown",
   "id": "cf7a1b55-36d2-44dc-a1ec-c94af758570f",
   "metadata": {},
   "source": [
    "# Collaborative filtering"
   ]
  }
 ],
 "metadata": {
  "kernelspec": {
   "display_name": "Python 3",
   "language": "python",
   "name": "python3"
  },
  "language_info": {
   "codemirror_mode": {
    "name": "ipython",
    "version": 3
   },
   "file_extension": ".py",
   "mimetype": "text/x-python",
   "name": "python",
   "nbconvert_exporter": "python",
   "pygments_lexer": "ipython3",
   "version": "3.8.6"
  }
 },
 "nbformat": 4,
 "nbformat_minor": 5
}
